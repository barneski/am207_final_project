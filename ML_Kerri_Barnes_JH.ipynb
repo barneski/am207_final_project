{
 "cells": [
  {
   "cell_type": "markdown",
   "metadata": {},
   "source": [
    "# The Optimal Diet\n",
    "\n",
    "## Introduction\n",
    "When planning a set of meals to cook for the week, it can be difficult and time-consuming to choose a set that is delicious, inexpensive, quick, and nutritious. Selecting recipes for an optimal diet is a multiobjective optimization problem that can be solved with simulated annealing. This project will first focus on gathering relevant data for the problem: a database of recipes with ingredients, ratings, cost, and nutrition information (along with any tags, such as \"vegetarian\", or other information available). Next, simulated annealing can be applied to optimally select a subset of these recipes according to a multiobjective optimization function. Lastly, the project can be extended to customize meal recommendations to particular users and diets.\n",
    "\n",
    "## Relevant Work\n",
    "Smith (2006) extensively discusses multi-objective optimization and multi-objective simulated annealing in particular.  He evaluates and discusses the problems with the composite objective function (which is a weighted sum of individual objective functions) and proposes an alternative. Smith develops a measure of the quality of the solution found by the simulated annealer.\n",
    "\n",
    "In addition, websites and apps such as https://www.eatthismuch.com/ exist that attempt to solve the optimal meal plan problem. We were not able to find details on the methods behind this technology, as it is most likely proprietary.\n",
    "\n",
    "## Objective\n",
    "The primary goal of this project is to apply stochastic optimization techniques such as simulated annealing to the problem of optimally selecting a set of meals for the week. There are many factors to consider in planning a set of meals for a week (e.g., cost, nutritional value, dietary restrictions, recipe ratings, time involved, etc.), so this will involve crafting a multiobjective optimization function which is a weighted sum of these factors. In the case of user-specific preferences, the weights of the objective function can be tweaked to reflect different user priorities. For example, users could specify how much they care about various factors, which would then be translated into weights for the objective function.\n",
    "\n",
    "This work will allow us to answer questions such as how to choose a good proposal distribution and cooling schedule for this problem. It will also enable exploration of various optimization techniques to see which is best in this case.  \n",
    "\n",
    "\n",
    "## Methods\n",
    "The optimal set of meals is found using simulated annealing applied to a multiobjective optimization problem. The individual objective functions deal with cost, taste (i.e., ratings), nutrition (i.e., meets nutritional requirements), etc. The multiobjective function, $E_{total}$, is a weighted sum of the individual objective functions, with the weights determined by user preferences:\n",
    "\n",
    "\n",
    "$E_{total} = \\sum\\limits_{j}w_{j}\\,E_{j}$\n",
    "\n",
    "\n",
    "Where,\n",
    "\n",
    "\n",
    "$j$ corresponds to a specific objective (e.g., cost)\n",
    "\n",
    "$w_{j}$ is the weight placed on a particular objective function\n",
    "\n",
    "$E_{j}$ is the value of particular objective function\n",
    "\n",
    "\n",
    "If time allows, this project will explore other stochastic optimization techniques to compare the performance of methods in finding the optimal set of meals. \n",
    "\n",
    "\n",
    "## Data\n",
    "Four pieces of data are required to determine the optimal set of meals for the week:\n",
    "\n",
    "1)      List of recipes\n",
    "\n",
    "2)      Ratings of recipes\n",
    "\n",
    "3)      Nutritional content of foods\n",
    "\n",
    "4)      Price data for foods\n",
    "\n",
    "An optimal set of meals consists of some subset of the recipes. Each recipe contains a list of ingredients, quantities of the ingredients, and a rating. Ideally, a recipe would contain nutritional and price data as well. If not, then nutritional and price data must be obtained for each ingredient contained in the recipe. Nutritional data will provide quantities of calories, macronutrients (i.e., proteins, fats, and carbohydrates), and micronutrients (i.e., vitamins and minerals) for some quantity of the ingredient. Price data will provide the cost for some quantity of the ingredient. Given these sets of inputs, the nutritional content and cost of each recipe lacking such information can be found.\n",
    "\n",
    "Several recipe API tools exist, which allow querying of recipe databases and retrieval of recipe results. The recipe results are given in a standardized format and each result contains a list of ingredients and a rating. Each recipe result may also contain nutritional data and tags (e.g., vegetarian). \n",
    "\n",
    "## References\n",
    "Smith, K. I. (2006). A Study of Simulated Annealing Techniques for Multi-Objective Optimisation (Doctoral dissertation). University of Exeter, Exeter.\n",
    "\n"
   ]
  },
  {
   "cell_type": "code",
   "execution_count": null,
   "metadata": {
    "collapsed": true
   },
   "outputs": [],
   "source": []
  }
 ],
 "metadata": {
  "kernelspec": {
   "display_name": "Python 2",
   "language": "python",
   "name": "python2"
  },
  "language_info": {
   "codemirror_mode": {
    "name": "ipython",
    "version": 2
   },
   "file_extension": ".py",
   "mimetype": "text/x-python",
   "name": "python",
   "nbconvert_exporter": "python",
   "pygments_lexer": "ipython2",
   "version": "2.7.9"
  }
 },
 "nbformat": 4,
 "nbformat_minor": 0
}
